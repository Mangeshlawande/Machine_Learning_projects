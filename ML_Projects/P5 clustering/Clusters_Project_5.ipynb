{
 "cells": [
  {
   "cell_type": "code",
   "execution_count": 1,
   "id": "980ef7b9",
   "metadata": {},
   "outputs": [],
   "source": [
    "from sklearn.cluster import KMeans\n",
    "from sklearn.datasets import make_blobs\n",
    "import matplotlib.pyplot as plt\n",
    "import numpy as np\n",
    "import pandas as pd\n",
    "x,y = make_blobs(n_samples=2000,centers=2, cluster_std=0.7, random_state=98)"
   ]
  },
  {
   "cell_type": "code",
   "execution_count": 2,
   "id": "292ef3ac",
   "metadata": {},
   "outputs": [
    {
     "data": {
      "text/plain": [
       "<matplotlib.collections.PathCollection at 0x1c707bd9000>"
      ]
     },
     "execution_count": 2,
     "metadata": {},
     "output_type": "execute_result"
    },
    {
     "data": {
      "image/png": "[encoded data removed]",
      "text/plain": [
       "<Figure size 640x480 with 1 Axes>"
      ]
     },
     "metadata": {},
     "output_type": "display_data"
    }
   ],
   "source": [
    "plt.scatter(x[:,0],x[:,1])"
   ]
  },
  {
   "cell_type": "code",
   "execution_count": 3,
   "id": "14d8723a",
   "metadata": {},
   "outputs": [
    {
     "data": {
      "text/plain": [
       "array([ 4.34948625,  5.55363318,  4.80231566, ..., -3.2806119 ,\n",
       "       -4.69457441, -3.06481008])"
      ]
     },
     "execution_count": 3,
     "metadata": {},
     "output_type": "execute_result"
    }
   ],
   "source": [
    "x[:,0]"
   ]
  },
  {
   "cell_type": "code",
   "execution_count": 4,
   "id": "dba73843",
   "metadata": {},
   "outputs": [
    {
     "data": {
      "text/plain": [
       "array([ 3.03924617,  0.33990942, -0.45694171, ...,  6.30107713,\n",
       "        5.27364181,  4.11458391])"
      ]
     },
     "execution_count": 4,
     "metadata": {},
     "output_type": "execute_result"
    }
   ],
   "source": [
    "x[:,1]"
   ]
  },
  {
   "cell_type": "code",
   "execution_count": 5,
   "id": "561bd144",
   "metadata": {},
   "outputs": [],
   "source": [
    "df = pd.DataFrame(data=x, columns=[\"X1\",\"X2\"])"
   ]
  },
  {
   "cell_type": "code",
   "execution_count": 6,
   "id": "3b059b52",
   "metadata": {},
   "outputs": [
    {
     "data": {
      "text/html": [
       "<div>\n",
       "<style scoped>\n",
       "    .dataframe tbody tr th:only-of-type {\n",
       "        vertical-align: middle;\n",
       "    }\n",
       "\n",
       "    .dataframe tbody tr th {\n",
       "        vertical-align: top;\n",
       "    }\n",
       "\n",
       "    .dataframe thead th {\n",
       "        text-align: right;\n",
       "    }\n",
       "</style>\n",
       "<table border=\"1\" class=\"dataframe\">\n",
       "  <thead>\n",
       "    <tr style=\"text-align: right;\">\n",
       "      <th></th>\n",
       "      <th>X1</th>\n",
       "      <th>X2</th>\n",
       "    </tr>\n",
       "  </thead>\n",
       "  <tbody>\n",
       "    <tr>\n",
       "      <th>0</th>\n",
       "      <td>4.349486</td>\n",
       "      <td>3.039246</td>\n",
       "    </tr>\n",
       "    <tr>\n",
       "      <th>1</th>\n",
       "      <td>5.553633</td>\n",
       "      <td>0.339909</td>\n",
       "    </tr>\n",
       "    <tr>\n",
       "      <th>2</th>\n",
       "      <td>4.802316</td>\n",
       "      <td>-0.456942</td>\n",
       "    </tr>\n",
       "    <tr>\n",
       "      <th>3</th>\n",
       "      <td>4.581259</td>\n",
       "      <td>0.578507</td>\n",
       "    </tr>\n",
       "    <tr>\n",
       "      <th>4</th>\n",
       "      <td>5.066580</td>\n",
       "      <td>1.391927</td>\n",
       "    </tr>\n",
       "    <tr>\n",
       "      <th>...</th>\n",
       "      <td>...</td>\n",
       "      <td>...</td>\n",
       "    </tr>\n",
       "    <tr>\n",
       "      <th>1995</th>\n",
       "      <td>7.155042</td>\n",
       "      <td>1.136007</td>\n",
       "    </tr>\n",
       "    <tr>\n",
       "      <th>1996</th>\n",
       "      <td>-3.632518</td>\n",
       "      <td>5.756623</td>\n",
       "    </tr>\n",
       "    <tr>\n",
       "      <th>1997</th>\n",
       "      <td>-3.280612</td>\n",
       "      <td>6.301077</td>\n",
       "    </tr>\n",
       "    <tr>\n",
       "      <th>1998</th>\n",
       "      <td>-4.694574</td>\n",
       "      <td>5.273642</td>\n",
       "    </tr>\n",
       "    <tr>\n",
       "      <th>1999</th>\n",
       "      <td>-3.064810</td>\n",
       "      <td>4.114584</td>\n",
       "    </tr>\n",
       "  </tbody>\n",
       "</table>\n",
       "<p>2000 rows × 2 columns</p>\n",
       "</div>"
      ],
      "text/plain": [
       "            X1        X2\n",
       "0     4.349486  3.039246\n",
       "1     5.553633  0.339909\n",
       "2     4.802316 -0.456942\n",
       "3     4.581259  0.578507\n",
       "4     5.066580  1.391927\n",
       "...        ...       ...\n",
       "1995  7.155042  1.136007\n",
       "1996 -3.632518  5.756623\n",
       "1997 -3.280612  6.301077\n",
       "1998 -4.694574  5.273642\n",
       "1999 -3.064810  4.114584\n",
       "\n",
       "[2000 rows x 2 columns]"
      ]
     },
     "execution_count": 6,
     "metadata": {},
     "output_type": "execute_result"
    }
   ],
   "source": [
    "df"
   ]
  },
  {
   "cell_type": "code",
   "execution_count": 9,
   "id": "64ceb698",
   "metadata": {},
   "outputs": [
    {
     "name": "stderr",
     "output_type": "stream",
     "text": [
      "C:\\Users\\mange\\anaconda3\\Python3_Jupyter\\lib\\site-packages\\sklearn\\cluster\\_kmeans.py:870: FutureWarning: The default value of `n_init` will change from 10 to 'auto' in 1.4. Set the value of `n_init` explicitly to suppress the warning\n",
      "  warnings.warn(\n"
     ]
    },
    {
     "data": {
      "text/html": [
       "<style>#sk-container-id-1 {color: black;background-color: white;}#sk-container-id-1 pre{padding: 0;}#sk-container-id-1 div.sk-toggleable {background-color: white;}#sk-container-id-1 label.sk-toggleable__label {cursor: pointer;display: block;width: 100%;margin-bottom: 0;padding: 0.3em;box-sizing: border-box;text-align: center;}#sk-container-id-1 label.sk-toggleable__label-arrow:before {content: \"▸\";float: left;margin-right: 0.25em;color: #696969;}#sk-container-id-1 label.sk-toggleable__label-arrow:hover:before {color: black;}#sk-container-id-1 div.sk-estimator:hover label.sk-toggleable__label-arrow:before {color: black;}#sk-container-id-1 div.sk-toggleable__content {max-height: 0;max-width: 0;overflow: hidden;text-align: left;background-color: #f0f8ff;}#sk-container-id-1 div.sk-toggleable__content pre {margin: 0.2em;color: black;border-radius: 0.25em;background-color: #f0f8ff;}#sk-container-id-1 input.sk-toggleable__control:checked~div.sk-toggleable__content {max-height: 200px;max-width: 100%;overflow: auto;}#sk-container-id-1 input.sk-toggleable__control:checked~label.sk-toggleable__label-arrow:before {content: \"▾\";}#sk-container-id-1 div.sk-estimator input.sk-toggleable__control:checked~label.sk-toggleable__label {background-color: #d4ebff;}#sk-container-id-1 div.sk-label input.sk-toggleable__control:checked~label.sk-toggleable__label {background-color: #d4ebff;}#sk-container-id-1 input.sk-hidden--visually {border: 0;clip: rect(1px 1px 1px 1px);clip: rect(1px, 1px, 1px, 1px);height: 1px;margin: -1px;overflow: hidden;padding: 0;position: absolute;width: 1px;}#sk-container-id-1 div.sk-estimator {font-family: monospace;background-color: #f0f8ff;border: 1px dotted black;border-radius: 0.25em;box-sizing: border-box;margin-bottom: 0.5em;}#sk-container-id-1 div.sk-estimator:hover {background-color: #d4ebff;}#sk-container-id-1 div.sk-parallel-item::after {content: \"\";width: 100%;border-bottom: 1px solid gray;flex-grow: 1;}#sk-container-id-1 div.sk-label:hover label.sk-toggleable__label {background-color: #d4ebff;}#sk-container-id-1 div.sk-serial::before {content: \"\";position: absolute;border-left: 1px solid gray;box-sizing: border-box;top: 0;bottom: 0;left: 50%;z-index: 0;}#sk-container-id-1 div.sk-serial {display: flex;flex-direction: column;align-items: center;background-color: white;padding-right: 0.2em;padding-left: 0.2em;position: relative;}#sk-container-id-1 div.sk-item {position: relative;z-index: 1;}#sk-container-id-1 div.sk-parallel {display: flex;align-items: stretch;justify-content: center;background-color: white;position: relative;}#sk-container-id-1 div.sk-item::before, #sk-container-id-1 div.sk-parallel-item::before {content: \"\";position: absolute;border-left: 1px solid gray;box-sizing: border-box;top: 0;bottom: 0;left: 50%;z-index: -1;}#sk-container-id-1 div.sk-parallel-item {display: flex;flex-direction: column;z-index: 1;position: relative;background-color: white;}#sk-container-id-1 div.sk-parallel-item:first-child::after {align-self: flex-end;width: 50%;}#sk-container-id-1 div.sk-parallel-item:last-child::after {align-self: flex-start;width: 50%;}#sk-container-id-1 div.sk-parallel-item:only-child::after {width: 0;}#sk-container-id-1 div.sk-dashed-wrapped {border: 1px dashed gray;margin: 0 0.4em 0.5em 0.4em;box-sizing: border-box;padding-bottom: 0.4em;background-color: white;}#sk-container-id-1 div.sk-label label {font-family: monospace;font-weight: bold;display: inline-block;line-height: 1.2em;}#sk-container-id-1 div.sk-label-container {text-align: center;}#sk-container-id-1 div.sk-container {/* jupyter's `normalize.less` sets `[hidden] { display: none; }` but bootstrap.min.css set `[hidden] { display: none !important; }` so we also need the `!important` here to be able to override the default hidden behavior on the sphinx rendered scikit-learn.org. See: https://github.com/scikit-learn/scikit-learn/issues/21755 */display: inline-block !important;position: relative;}#sk-container-id-1 div.sk-text-repr-fallback {display: none;}</style><div id=\"sk-container-id-1\" class=\"sk-top-container\"><div class=\"sk-text-repr-fallback\"><pre>KMeans(n_clusters=2)</pre><b>In a Jupyter environment, please rerun this cell to show the HTML representation or trust the notebook. <br />On GitHub, the HTML representation is unable to render, please try loading this page with nbviewer.org.</b></div><div class=\"sk-container\" hidden><div class=\"sk-item\"><div class=\"sk-estimator sk-toggleable\"><input class=\"sk-toggleable__control sk-hidden--visually\" id=\"sk-estimator-id-1\" type=\"checkbox\" checked><label for=\"sk-estimator-id-1\" class=\"sk-toggleable__label sk-toggleable__label-arrow\">KMeans</label><div class=\"sk-toggleable__content\"><pre>KMeans(n_clusters=2)</pre></div></div></div></div></div>"
      ],
      "text/plain": [
       "KMeans(n_clusters=2)"
      ]
     },
     "execution_count": 9,
     "metadata": {},
     "output_type": "execute_result"
    }
   ],
   "source": [
    "km = KMeans(n_clusters=2)\n",
    "km.fit(df)"
   ]
  },
  {
   "cell_type": "code",
   "execution_count": 10,
   "id": "7923ed99",
   "metadata": {},
   "outputs": [],
   "source": [
    "prediction =km.predict(df)"
   ]
  },
  {
   "cell_type": "code",
   "execution_count": 11,
   "id": "5490bd8b",
   "metadata": {},
   "outputs": [
    {
     "data": {
      "text/plain": [
       "<matplotlib.collections.PathCollection at 0x1c707caf5b0>"
      ]
     },
     "execution_count": 11,
     "metadata": {},
     "output_type": "execute_result"
    },
    {
     "data": {
      "image/png": "[encoded data removed]",
      "text/plain": [
       "<Figure size 640x480 with 1 Axes>"
      ]
     },
     "metadata": {},
     "output_type": "display_data"
    }
   ],
   "source": [
    "plt.scatter(df['X1'], df['X2'],c=prediction)"
   ]
  },
  {
   "cell_type": "code",
   "execution_count": 12,
   "id": "2ec79cf8",
   "metadata": {},
   "outputs": [
    {
     "data": {
      "text/plain": [
       "array([1, 1, 1, ..., 0, 0, 0])"
      ]
     },
     "execution_count": 12,
     "metadata": {},
     "output_type": "execute_result"
    }
   ],
   "source": [
    "prediction"
   ]
  },
  {
   "cell_type": "code",
   "execution_count": 28,
   "id": "6202eb34",
   "metadata": {},
   "outputs": [],
   "source": [
    "cluster1 = np.where(prediction == 0)"
   ]
  },
  {
   "cell_type": "code",
   "execution_count": 29,
   "id": "b2ce47ec",
   "metadata": {},
   "outputs": [
    {
     "data": {
      "text/plain": [
       "(array([   5,    6,    7,    8,    9,   12,   13,   15,   16,   17,   20,\n",
       "          21,   23,   24,   25,   35,   36,   38,   40,   41,   42,   44,\n",
       "          47,   49,   51,   54,   58,   60,   61,   62,   63,   64,   65,\n",
       "          70,   74,   77,   78,   79,   82,   83,   84,   86,   88,   90,\n",
       "          94,   95,   96,   98,   99,  101,  104,  107,  109,  110,  111,\n",
       "         114,  115,  116,  119,  123,  125,  127,  128,  131,  132,  134,\n",
       "         135,  139,  140,  142,  143,  144,  148,  150,  151,  152,  153,\n",
       "         154,  155,  156,  157,  160,  161,  162,  163,  169,  170,  171,\n",
       "         176,  178,  180,  181,  184,  185,  186,  188,  192,  194,  195,\n",
       "         199,  200,  201,  202,  211,  215,  219,  220,  223,  230,  231,\n",
       "         232,  236,  238,  240,  242,  245,  246,  249,  253,  255,  256,\n",
       "         257,  261,  262,  263,  264,  265,  266,  267,  269,  270,  271,\n",
       "         273,  275,  276,  278,  280,  282,  285,  288,  289,  292,  294,\n",
       "         296,  297,  303,  308,  310,  314,  315,  316,  317,  319,  321,\n",
       "         322,  324,  325,  326,  329,  333,  335,  336,  337,  340,  342,\n",
       "         343,  346,  347,  349,  353,  356,  357,  359,  360,  361,  363,\n",
       "         364,  366,  367,  368,  369,  370,  371,  372,  373,  374,  375,\n",
       "         379,  383,  384,  389,  392,  393,  396,  397,  398,  401,  402,\n",
       "         403,  405,  406,  409,  410,  416,  417,  418,  419,  420,  425,\n",
       "         429,  430,  431,  432,  435,  437,  438,  442,  443,  444,  446,\n",
       "         447,  448,  451,  452,  455,  456,  458,  459,  460,  461,  464,\n",
       "         465,  469,  471,  472,  474,  478,  480,  481,  483,  485,  487,\n",
       "         490,  491,  492,  493,  496,  497,  499,  500,  501,  502,  503,\n",
       "         505,  509,  510,  511,  512,  515,  517,  518,  521,  526,  527,\n",
       "         530,  531,  533,  534,  535,  536,  538,  540,  541,  542,  543,\n",
       "         544,  545,  547,  549,  555,  556,  559,  560,  561,  564,  565,\n",
       "         566,  570,  571,  572,  579,  580,  581,  582,  583,  584,  587,\n",
       "         588,  589,  590,  591,  592,  597,  598,  601,  602,  603,  604,\n",
       "         605,  606,  609,  610,  611,  612,  616,  617,  619,  621,  622,\n",
       "         626,  628,  630,  633,  634,  635,  639,  642,  647,  650,  651,\n",
       "         652,  653,  655,  656,  657,  658,  659,  660,  664,  665,  666,\n",
       "         671,  672,  673,  676,  677,  678,  681,  683,  689,  693,  695,\n",
       "         697,  699,  703,  705,  707,  708,  711,  712,  717,  719,  721,\n",
       "         722,  726,  727,  729,  730,  732,  737,  738,  739,  740,  745,\n",
       "         746,  747,  748,  749,  750,  754,  756,  759,  760,  761,  763,\n",
       "         764,  766,  769,  772,  774,  782,  783,  784,  785,  786,  787,\n",
       "         789,  790,  791,  794,  795,  796,  799,  801,  802,  805,  809,\n",
       "         810,  812,  815,  816,  817,  823,  824,  826,  828,  830,  831,\n",
       "         832,  835,  839,  840,  841,  842,  843,  845,  848,  850,  851,\n",
       "         853,  855,  858,  862,  863,  864,  866,  867,  870,  874,  878,\n",
       "         883,  885,  886,  889,  892,  894,  895,  898,  899,  900,  902,\n",
       "         903,  904,  906,  907,  909,  911,  912,  913,  916,  917,  920,\n",
       "         924,  927,  931,  932,  933,  935,  936,  938,  939,  943,  944,\n",
       "         945,  950,  952,  953,  954,  955,  957,  959,  960,  962,  964,\n",
       "         965,  969,  970,  972,  974,  977,  978,  979,  980,  984,  988,\n",
       "         989,  992,  993, 1001, 1003, 1005, 1006, 1008, 1011, 1012, 1014,\n",
       "        1015, 1016, 1019, 1023, 1026, 1027, 1028, 1031, 1032, 1033, 1034,\n",
       "        1038, 1039, 1043, 1045, 1047, 1048, 1054, 1056, 1057, 1059, 1060,\n",
       "        1064, 1066, 1067, 1069, 1071, 1075, 1076, 1079, 1080, 1081, 1082,\n",
       "        1085, 1086, 1087, 1092, 1093, 1094, 1096, 1097, 1098, 1100, 1101,\n",
       "        1103, 1106, 1107, 1110, 1112, 1113, 1118, 1120, 1121, 1122, 1123,\n",
       "        1124, 1126, 1128, 1129, 1131, 1133, 1134, 1136, 1137, 1138, 1139,\n",
       "        1140, 1141, 1142, 1143, 1145, 1149, 1151, 1153, 1156, 1157, 1158,\n",
       "        1160, 1162, 1163, 1165, 1166, 1173, 1176, 1178, 1179, 1181, 1182,\n",
       "        1183, 1184, 1185, 1186, 1188, 1192, 1194, 1196, 1197, 1198, 1199,\n",
       "        1204, 1206, 1209, 1210, 1212, 1213, 1214, 1215, 1219, 1220, 1222,\n",
       "        1223, 1226, 1227, 1229, 1231, 1232, 1234, 1236, 1237, 1238, 1239,\n",
       "        1240, 1242, 1243, 1244, 1246, 1250, 1255, 1256, 1259, 1260, 1261,\n",
       "        1263, 1266, 1268, 1270, 1274, 1277, 1278, 1279, 1283, 1284, 1286,\n",
       "        1290, 1294, 1296, 1297, 1302, 1305, 1307, 1309, 1313, 1314, 1315,\n",
       "        1318, 1319, 1327, 1329, 1330, 1331, 1332, 1333, 1334, 1338, 1339,\n",
       "        1340, 1341, 1343, 1345, 1346, 1349, 1352, 1353, 1355, 1357, 1358,\n",
       "        1360, 1363, 1364, 1366, 1369, 1370, 1371, 1372, 1373, 1379, 1382,\n",
       "        1383, 1387, 1388, 1389, 1391, 1393, 1394, 1395, 1397, 1398, 1400,\n",
       "        1401, 1402, 1405, 1406, 1407, 1408, 1410, 1411, 1414, 1417, 1418,\n",
       "        1419, 1422, 1423, 1424, 1425, 1426, 1427, 1429, 1434, 1436, 1438,\n",
       "        1441, 1443, 1444, 1447, 1448, 1449, 1450, 1451, 1453, 1454, 1460,\n",
       "        1461, 1462, 1463, 1465, 1466, 1468, 1471, 1472, 1473, 1474, 1483,\n",
       "        1484, 1488, 1490, 1496, 1498, 1499, 1501, 1503, 1504, 1505, 1507,\n",
       "        1512, 1513, 1515, 1516, 1517, 1518, 1520, 1521, 1522, 1525, 1526,\n",
       "        1527, 1528, 1529, 1530, 1531, 1532, 1533, 1534, 1536, 1542, 1547,\n",
       "        1548, 1550, 1551, 1554, 1555, 1556, 1557, 1561, 1562, 1563, 1568,\n",
       "        1577, 1578, 1579, 1582, 1588, 1589, 1590, 1593, 1594, 1596, 1597,\n",
       "        1601, 1603, 1604, 1605, 1610, 1611, 1616, 1617, 1622, 1625, 1632,\n",
       "        1635, 1636, 1637, 1638, 1639, 1641, 1642, 1643, 1644, 1645, 1646,\n",
       "        1647, 1648, 1649, 1655, 1656, 1657, 1660, 1661, 1664, 1666, 1669,\n",
       "        1678, 1680, 1683, 1686, 1687, 1688, 1691, 1694, 1695, 1696, 1701,\n",
       "        1702, 1705, 1712, 1714, 1716, 1722, 1723, 1725, 1726, 1727, 1728,\n",
       "        1729, 1730, 1731, 1737, 1741, 1746, 1747, 1748, 1751, 1753, 1755,\n",
       "        1756, 1757, 1759, 1761, 1762, 1763, 1765, 1767, 1772, 1773, 1774,\n",
       "        1776, 1781, 1783, 1784, 1786, 1788, 1789, 1792, 1794, 1798, 1801,\n",
       "        1802, 1803, 1806, 1808, 1809, 1810, 1813, 1814, 1815, 1818, 1820,\n",
       "        1822, 1823, 1826, 1827, 1829, 1830, 1832, 1833, 1834, 1835, 1837,\n",
       "        1838, 1839, 1841, 1842, 1843, 1846, 1849, 1850, 1851, 1855, 1858,\n",
       "        1860, 1866, 1869, 1872, 1873, 1874, 1875, 1876, 1878, 1881, 1883,\n",
       "        1888, 1889, 1891, 1892, 1893, 1895, 1896, 1898, 1900, 1902, 1904,\n",
       "        1906, 1907, 1909, 1911, 1913, 1914, 1917, 1919, 1920, 1922, 1924,\n",
       "        1925, 1926, 1928, 1929, 1930, 1932, 1933, 1935, 1937, 1938, 1941,\n",
       "        1942, 1943, 1944, 1951, 1952, 1953, 1957, 1959, 1960, 1961, 1963,\n",
       "        1964, 1966, 1969, 1970, 1971, 1972, 1973, 1974, 1976, 1981, 1984,\n",
       "        1985, 1987, 1989, 1991, 1992, 1994, 1996, 1997, 1998, 1999],\n",
       "       dtype=int64),)"
      ]
     },
     "execution_count": 29,
     "metadata": {},
     "output_type": "execute_result"
    }
   ],
   "source": [
    "cluster1"
   ]
  },
  {
   "cell_type": "code",
   "execution_count": 22,
   "id": "1a10c05c",
   "metadata": {},
   "outputs": [],
   "source": [
    "cluster2= np.where(prediction == 1)"
   ]
  },
  {
   "cell_type": "code",
   "execution_count": 23,
   "id": "9a3632e9",
   "metadata": {},
   "outputs": [
    {
     "data": {
      "text/plain": [
       "(array([   0,    1,    2,    3,    4,   10,   11,   14,   18,   19,   22,\n",
       "          26,   27,   28,   29,   30,   31,   32,   33,   34,   37,   39,\n",
       "          43,   45,   46,   48,   50,   52,   53,   55,   56,   57,   59,\n",
       "          66,   67,   68,   69,   71,   72,   73,   75,   76,   80,   81,\n",
       "          85,   87,   89,   91,   92,   93,   97,  100,  102,  103,  105,\n",
       "         106,  108,  112,  113,  117,  118,  120,  121,  122,  124,  126,\n",
       "         129,  130,  133,  136,  137,  138,  141,  145,  146,  147,  149,\n",
       "         158,  159,  164,  165,  166,  167,  168,  172,  173,  174,  175,\n",
       "         177,  179,  182,  183,  187,  189,  190,  191,  193,  196,  197,\n",
       "         198,  203,  204,  205,  206,  207,  208,  209,  210,  212,  213,\n",
       "         214,  216,  217,  218,  221,  222,  224,  225,  226,  227,  228,\n",
       "         229,  233,  234,  235,  237,  239,  241,  243,  244,  247,  248,\n",
       "         250,  251,  252,  254,  258,  259,  260,  268,  272,  274,  277,\n",
       "         279,  281,  283,  284,  286,  287,  290,  291,  293,  295,  298,\n",
       "         299,  300,  301,  302,  304,  305,  306,  307,  309,  311,  312,\n",
       "         313,  318,  320,  323,  327,  328,  330,  331,  332,  334,  338,\n",
       "         339,  341,  344,  345,  348,  350,  351,  352,  354,  355,  358,\n",
       "         362,  365,  376,  377,  378,  380,  381,  382,  385,  386,  387,\n",
       "         388,  390,  391,  394,  395,  399,  400,  404,  407,  408,  411,\n",
       "         412,  413,  414,  415,  421,  422,  423,  424,  426,  427,  428,\n",
       "         433,  434,  436,  439,  440,  441,  445,  449,  450,  453,  454,\n",
       "         457,  462,  463,  466,  467,  468,  470,  473,  475,  476,  477,\n",
       "         479,  482,  484,  486,  488,  489,  494,  495,  498,  504,  506,\n",
       "         507,  508,  513,  514,  516,  519,  520,  522,  523,  524,  525,\n",
       "         528,  529,  532,  537,  539,  546,  548,  550,  551,  552,  553,\n",
       "         554,  557,  558,  562,  563,  567,  568,  569,  573,  574,  575,\n",
       "         576,  577,  578,  585,  586,  593,  594,  595,  596,  599,  600,\n",
       "         607,  608,  613,  614,  615,  618,  620,  623,  624,  625,  627,\n",
       "         629,  631,  632,  636,  637,  638,  640,  641,  643,  644,  645,\n",
       "         646,  648,  649,  654,  661,  662,  663,  667,  668,  669,  670,\n",
       "         674,  675,  679,  680,  682,  684,  685,  686,  687,  688,  690,\n",
       "         691,  692,  694,  696,  698,  700,  701,  702,  704,  706,  709,\n",
       "         710,  713,  714,  715,  716,  718,  720,  723,  724,  725,  728,\n",
       "         731,  733,  734,  735,  736,  741,  742,  743,  744,  751,  752,\n",
       "         753,  755,  757,  758,  762,  765,  767,  768,  770,  771,  773,\n",
       "         775,  776,  777,  778,  779,  780,  781,  788,  792,  793,  797,\n",
       "         798,  800,  803,  804,  806,  807,  808,  811,  813,  814,  818,\n",
       "         819,  820,  821,  822,  825,  827,  829,  833,  834,  836,  837,\n",
       "         838,  844,  846,  847,  849,  852,  854,  856,  857,  859,  860,\n",
       "         861,  865,  868,  869,  871,  872,  873,  875,  876,  877,  879,\n",
       "         880,  881,  882,  884,  887,  888,  890,  891,  893,  896,  897,\n",
       "         901,  905,  908,  910,  914,  915,  918,  919,  921,  922,  923,\n",
       "         925,  926,  928,  929,  930,  934,  937,  940,  941,  942,  946,\n",
       "         947,  948,  949,  951,  956,  958,  961,  963,  966,  967,  968,\n",
       "         971,  973,  975,  976,  981,  982,  983,  985,  986,  987,  990,\n",
       "         991,  994,  995,  996,  997,  998,  999, 1000, 1002, 1004, 1007,\n",
       "        1009, 1010, 1013, 1017, 1018, 1020, 1021, 1022, 1024, 1025, 1029,\n",
       "        1030, 1035, 1036, 1037, 1040, 1041, 1042, 1044, 1046, 1049, 1050,\n",
       "        1051, 1052, 1053, 1055, 1058, 1061, 1062, 1063, 1065, 1068, 1070,\n",
       "        1072, 1073, 1074, 1077, 1078, 1083, 1084, 1088, 1089, 1090, 1091,\n",
       "        1095, 1099, 1102, 1104, 1105, 1108, 1109, 1111, 1114, 1115, 1116,\n",
       "        1117, 1119, 1125, 1127, 1130, 1132, 1135, 1144, 1146, 1147, 1148,\n",
       "        1150, 1152, 1154, 1155, 1159, 1161, 1164, 1167, 1168, 1169, 1170,\n",
       "        1171, 1172, 1174, 1175, 1177, 1180, 1187, 1189, 1190, 1191, 1193,\n",
       "        1195, 1200, 1201, 1202, 1203, 1205, 1207, 1208, 1211, 1216, 1217,\n",
       "        1218, 1221, 1224, 1225, 1228, 1230, 1233, 1235, 1241, 1245, 1247,\n",
       "        1248, 1249, 1251, 1252, 1253, 1254, 1257, 1258, 1262, 1264, 1265,\n",
       "        1267, 1269, 1271, 1272, 1273, 1275, 1276, 1280, 1281, 1282, 1285,\n",
       "        1287, 1288, 1289, 1291, 1292, 1293, 1295, 1298, 1299, 1300, 1301,\n",
       "        1303, 1304, 1306, 1308, 1310, 1311, 1312, 1316, 1317, 1320, 1321,\n",
       "        1322, 1323, 1324, 1325, 1326, 1328, 1335, 1336, 1337, 1342, 1344,\n",
       "        1347, 1348, 1350, 1351, 1354, 1356, 1359, 1361, 1362, 1365, 1367,\n",
       "        1368, 1374, 1375, 1376, 1377, 1378, 1380, 1381, 1384, 1385, 1386,\n",
       "        1390, 1392, 1396, 1399, 1403, 1404, 1409, 1412, 1413, 1415, 1416,\n",
       "        1420, 1421, 1428, 1430, 1431, 1432, 1433, 1435, 1437, 1439, 1440,\n",
       "        1442, 1445, 1446, 1452, 1455, 1456, 1457, 1458, 1459, 1464, 1467,\n",
       "        1469, 1470, 1475, 1476, 1477, 1478, 1479, 1480, 1481, 1482, 1485,\n",
       "        1486, 1487, 1489, 1491, 1492, 1493, 1494, 1495, 1497, 1500, 1502,\n",
       "        1506, 1508, 1509, 1510, 1511, 1514, 1519, 1523, 1524, 1535, 1537,\n",
       "        1538, 1539, 1540, 1541, 1543, 1544, 1545, 1546, 1549, 1552, 1553,\n",
       "        1558, 1559, 1560, 1564, 1565, 1566, 1567, 1569, 1570, 1571, 1572,\n",
       "        1573, 1574, 1575, 1576, 1580, 1581, 1583, 1584, 1585, 1586, 1587,\n",
       "        1591, 1592, 1595, 1598, 1599, 1600, 1602, 1606, 1607, 1608, 1609,\n",
       "        1612, 1613, 1614, 1615, 1618, 1619, 1620, 1621, 1623, 1624, 1626,\n",
       "        1627, 1628, 1629, 1630, 1631, 1633, 1634, 1640, 1650, 1651, 1652,\n",
       "        1653, 1654, 1658, 1659, 1662, 1663, 1665, 1667, 1668, 1670, 1671,\n",
       "        1672, 1673, 1674, 1675, 1676, 1677, 1679, 1681, 1682, 1684, 1685,\n",
       "        1689, 1690, 1692, 1693, 1697, 1698, 1699, 1700, 1703, 1704, 1706,\n",
       "        1707, 1708, 1709, 1710, 1711, 1713, 1715, 1717, 1718, 1719, 1720,\n",
       "        1721, 1724, 1732, 1733, 1734, 1735, 1736, 1738, 1739, 1740, 1742,\n",
       "        1743, 1744, 1745, 1749, 1750, 1752, 1754, 1758, 1760, 1764, 1766,\n",
       "        1768, 1769, 1770, 1771, 1775, 1777, 1778, 1779, 1780, 1782, 1785,\n",
       "        1787, 1790, 1791, 1793, 1795, 1796, 1797, 1799, 1800, 1804, 1805,\n",
       "        1807, 1811, 1812, 1816, 1817, 1819, 1821, 1824, 1825, 1828, 1831,\n",
       "        1836, 1840, 1844, 1845, 1847, 1848, 1852, 1853, 1854, 1856, 1857,\n",
       "        1859, 1861, 1862, 1863, 1864, 1865, 1867, 1868, 1870, 1871, 1877,\n",
       "        1879, 1880, 1882, 1884, 1885, 1886, 1887, 1890, 1894, 1897, 1899,\n",
       "        1901, 1903, 1905, 1908, 1910, 1912, 1915, 1916, 1918, 1921, 1923,\n",
       "        1927, 1931, 1934, 1936, 1939, 1940, 1945, 1946, 1947, 1948, 1949,\n",
       "        1950, 1954, 1955, 1956, 1958, 1962, 1965, 1967, 1968, 1975, 1977,\n",
       "        1978, 1979, 1980, 1982, 1983, 1986, 1988, 1990, 1993, 1995],\n",
       "       dtype=int64),)"
      ]
     },
     "execution_count": 23,
     "metadata": {},
     "output_type": "execute_result"
    }
   ],
   "source": [
    "cluster2"
   ]
  },
  {
   "cell_type": "code",
   "execution_count": 24,
   "id": "864cc1e6",
   "metadata": {},
   "outputs": [],
   "source": [
    "import pickle\n",
    "pickle.dump(km, open('clusters.pkl','wb'))"
   ]
  },
  {
   "cell_type": "code",
   "execution_count": null,
   "id": "1baa1693",
   "metadata": {},
   "outputs": [],
   "source": []
  }
 ],
 "metadata": {
  "kernelspec": {
   "display_name": "Python 3 (ipykernel)",
   "language": "python",
   "name": "python3"
  },
  "language_info": {
   "codemirror_mode": {
    "name": "ipython",
    "version": 3
   },
   "file_extension": ".py",
   "mimetype": "text/x-python",
   "name": "python",
   "nbconvert_exporter": "python",
   "pygments_lexer": "ipython3",
   "version": "3.10.9"
  }
 },
 "nbformat": 4,
 "nbformat_minor": 5
}
