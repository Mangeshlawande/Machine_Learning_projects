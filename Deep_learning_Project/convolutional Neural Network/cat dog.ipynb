{
 "cells": [
  {
   "cell_type": "code",
   "execution_count": 1,
   "id": "f19f1376",
   "metadata": {},
   "outputs": [],
   "source": [
    "# !pip install tensorflow"
   ]
  },
  {
   "cell_type": "code",
   "execution_count": 14,
   "id": "5cf52ac9",
   "metadata": {},
   "outputs": [],
   "source": [
    "\n",
    "import keras\n",
    "import numpy as np\n",
    "import warnings\n",
    "warnings.simplefilter('ignore')\n",
    "import matplotlib.pyplot as plt\n",
    "from keras.models import Sequential\n",
    "from keras.layers import Convolution2D\n",
    "from keras.layers import MaxPooling2D\n",
    "from keras.layers import Dense\n",
    "from keras.layers import Flatten"
   ]
  },
  {
   "cell_type": "code",
   "execution_count": 15,
   "id": "326b6dc7",
   "metadata": {},
   "outputs": [],
   "source": [
    "from keras.preprocessing.image import ImageDataGenerator\n",
    "train = ImageDataGenerator(rescale = 1./255)\n",
    "test = ImageDataGenerator(rescale = 1./255)"
   ]
  },
  {
   "cell_type": "code",
   "execution_count": 20,
   "id": "3fe04bef",
   "metadata": {},
   "outputs": [
    {
     "name": "stdout",
     "output_type": "stream",
     "text": [
      "Found 22 images belonging to 2 classes.\n",
      "Found 82 images belonging to 2 classes.\n"
     ]
    }
   ],
   "source": [
    "train_data = train.flow_from_directory('C:/Users/mange/Desktop/image/test', target_size = (100, 100), class_mode = 'binary')\n",
    "\n",
    "test_data = test.flow_from_directory('C:/Users/mange/Desktop/image/train', target_size = (100, 100), class_mode = 'binary')"
   ]
  },
  {
   "cell_type": "code",
   "execution_count": null,
   "id": "dbc3ead3",
   "metadata": {},
   "outputs": [],
   "source": [
    "                                    "
   ]
  },
  {
   "cell_type": "code",
   "execution_count": 21,
   "id": "a085fb12",
   "metadata": {},
   "outputs": [
    {
     "name": "stdout",
     "output_type": "stream",
     "text": [
      "Epoch 1/5\n",
      "1/1 [==============================] - 5s 5s/step - loss: 0.2471 - accuracy: 0.5000 - val_loss: 0.2291 - val_accuracy: 0.6098\n",
      "Epoch 2/5\n",
      "1/1 [==============================] - 2s 2s/step - loss: 0.1556 - accuracy: 0.8182 - val_loss: 0.1922 - val_accuracy: 0.7439\n",
      "Epoch 3/5\n",
      "1/1 [==============================] - 3s 3s/step - loss: 0.0911 - accuracy: 0.9545 - val_loss: 0.1738 - val_accuracy: 0.7561\n",
      "Epoch 4/5\n",
      "1/1 [==============================] - 2s 2s/step - loss: 0.0516 - accuracy: 1.0000 - val_loss: 0.1607 - val_accuracy: 0.7927\n",
      "Epoch 5/5\n",
      "1/1 [==============================] - 2s 2s/step - loss: 0.0258 - accuracy: 1.0000 - val_loss: 0.1584 - val_accuracy: 0.7927\n"
     ]
    },
    {
     "data": {
      "text/plain": [
       "<keras.src.callbacks.History at 0x1f92dff7110>"
      ]
     },
     "execution_count": 21,
     "metadata": {},
     "output_type": "execute_result"
    }
   ],
   "source": [
    "classifier=Sequential()\n",
    "classifier.add(Convolution2D(32,3,3,input_shape=(100,100,3),activation='relu'))\n",
    "classifier.add(MaxPooling2D(pool_size=(2,2)))\n",
    "classifier.add(Flatten())\n",
    "classifier.add(Dense(128,activation='relu'))\n",
    "classifier.add(Dense(1,activation='sigmoid'))\n",
    "\n",
    "classifier.compile(optimizer=keras.optimizers.Adam(), loss=\"mean_squared_error\",\n",
    "              metrics=['accuracy'])\n",
    "\n",
    "classifier.fit_generator(train_data,epochs=5,validation_data=test_data)"
   ]
  },
  {
   "cell_type": "code",
   "execution_count": 22,
   "id": "2c291fe1",
   "metadata": {},
   "outputs": [],
   "source": [
    "from tensorflow import keras\n",
    "def predict(path,classifier):\n",
    "    predict = keras.utils.load_img(path, target_size = (100,100))   \n",
    "    predict_modified = keras.utils.img_to_array(predict)\n",
    "    predict_modified = predict_modified / 255\n",
    "    predict_modified = np.expand_dims(predict_modified, axis = 0)\n",
    "    final = classifier.predict(predict_modified)\n",
    "    print(final)"
   ]
  },
  {
   "cell_type": "code",
   "execution_count": 12,
   "id": "7b5634a6",
   "metadata": {},
   "outputs": [
    {
     "name": "stdout",
     "output_type": "stream",
     "text": [
      "1/1 [==============================] - 0s 166ms/step\n",
      "[[0.00098721]]\n"
     ]
    }
   ],
   "source": [
    "path = '/Users/mange/Desktop/image/1.png'\n",
    "predict(path,classifier)"
   ]
  },
  {
   "cell_type": "code",
   "execution_count": 23,
   "id": "048ae2e7",
   "metadata": {},
   "outputs": [
    {
     "name": "stdout",
     "output_type": "stream",
     "text": [
      "1/1 [==============================] - 0s 109ms/step\n",
      "[[0.8739248]]\n"
     ]
    }
   ],
   "source": [
    "path = '/Users/mange/Desktop/image/2.png'\n",
    "predict(path,classifier)"
   ]
  },
  {
   "cell_type": "code",
   "execution_count": 24,
   "id": "d3e02765",
   "metadata": {},
   "outputs": [],
   "source": [
    "classifier.save('clf.h5')"
   ]
  },
  {
   "cell_type": "code",
   "execution_count": null,
   "id": "1b43710b",
   "metadata": {},
   "outputs": [],
   "source": []
  },
  {
   "cell_type": "code",
   "execution_count": 19,
   "id": "44e6a741",
   "metadata": {},
   "outputs": [],
   "source": [
    "# from tensorflow.keras.utils import img_to_array,array_to_img,load_img\n",
    "\n",
    "# dataaug = ImageDataGenerator(\n",
    "#         rotation_range=20,\n",
    "#         width_shift_range=0.3,\n",
    "#         height_shift_range=0.1,\n",
    "#         zoom_range=0.5,\n",
    "#         horizontal_flip=True,\n",
    "#         vertical_flip=True,\n",
    "#         fill_mode='nearest')\n",
    "\n",
    "# img = load_img('/Users/mange/Desktop/image/2.png')  \n",
    "# pic = img_to_array(img) #1+ 100,100,3\n",
    "# pic = pic.reshape((1,) + pic.shape)\n",
    "\n",
    "# i = 0\n",
    "# for x in dataaug.flow(pic, batch_size=1,\n",
    "#                           save_to_dir='/Users/mange/Desktop/image/test/dog', save_prefix='dog', save_format='jpeg'):\n",
    "#     i += 1\n",
    "#     if i > 10:\n",
    "#         break  "
   ]
  },
  {
   "cell_type": "code",
   "execution_count": null,
   "id": "558d8edf",
   "metadata": {},
   "outputs": [],
   "source": []
  }
 ],
 "metadata": {
  "kernelspec": {
   "display_name": "Python 3 (ipykernel)",
   "language": "python",
   "name": "python3"
  },
  "language_info": {
   "codemirror_mode": {
    "name": "ipython",
    "version": 3
   },
   "file_extension": ".py",
   "mimetype": "text/x-python",
   "name": "python",
   "nbconvert_exporter": "python",
   "pygments_lexer": "ipython3",
   "version": "3.11.5"
  }
 },
 "nbformat": 4,
 "nbformat_minor": 5
}
