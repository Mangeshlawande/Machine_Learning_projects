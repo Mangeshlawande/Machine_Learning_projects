{
 "cells": [
  {
   "cell_type": "code",
   "execution_count": 1,
   "id": "32353397",
   "metadata": {
    "scrolled": true
   },
   "outputs": [
    {
     "ename": "AttributeError",
     "evalue": "'NoneType' object has no attribute 'astype'",
     "output_type": "error",
     "traceback": [
      "\u001b[1;31m---------------------------------------------------------------------------\u001b[0m",
      "\u001b[1;31mAttributeError\u001b[0m                            Traceback (most recent call last)",
      "Cell \u001b[1;32mIn[1], line 20\u001b[0m\n\u001b[0;32m     17\u001b[0m dnn_net\u001b[38;5;241m.\u001b[39mgetLayer(Id2)\u001b[38;5;241m.\u001b[39mblobs \u001b[38;5;241m=\u001b[39m [np\u001b[38;5;241m.\u001b[39mfull([\u001b[38;5;241m1\u001b[39m,\u001b[38;5;241m313\u001b[39m],\u001b[38;5;241m2.606\u001b[39m,dtype\u001b[38;5;241m=\u001b[39m\u001b[38;5;124m'\u001b[39m\u001b[38;5;124mfloat32\u001b[39m\u001b[38;5;124m'\u001b[39m)]\n\u001b[0;32m     19\u001b[0m image \u001b[38;5;241m=\u001b[39m cv2\u001b[38;5;241m.\u001b[39mimread(\u001b[38;5;124m'\u001b[39m\u001b[38;5;124mdownload.jpg\u001b[39m\u001b[38;5;124m'\u001b[39m)\n\u001b[1;32m---> 20\u001b[0m image \u001b[38;5;241m=\u001b[39m image\u001b[38;5;241m.\u001b[39mastype(\u001b[38;5;124m\"\u001b[39m\u001b[38;5;124mfloat32\u001b[39m\u001b[38;5;124m\"\u001b[39m)\u001b[38;5;241m/\u001b[39m\u001b[38;5;241m255.0\u001b[39m\n\u001b[0;32m     21\u001b[0m image \u001b[38;5;241m=\u001b[39m cv2\u001b[38;5;241m.\u001b[39mcvtColor(image,cv2\u001b[38;5;241m.\u001b[39mCOLOR_BGR2LAB)\n\u001b[0;32m     23\u001b[0m resized \u001b[38;5;241m=\u001b[39m cv2\u001b[38;5;241m.\u001b[39mresize(image,(\u001b[38;5;241m224\u001b[39m,\u001b[38;5;241m224\u001b[39m))\n",
      "\u001b[1;31mAttributeError\u001b[0m: 'NoneType' object has no attribute 'astype'"
     ]
    }
   ],
   "source": [
    "import numpy as np \n",
    "import cv2\n",
    "import matplotlib.pyplot as plt\n",
    "\n",
    "prot_path = './model/colorization_deploy_v2.prototxt'\n",
    "caffe_model = './model/colorization_release_v2.caffemodel'\n",
    "point_path = './model/pts_in_hull.npy'\n",
    "\n",
    "dnn_net = cv2.dnn.readNetFromCaffe(prot_path,caffe_model)\n",
    "kernel = np.load(point_path)\n",
    "\n",
    "Id = dnn_net.getLayerId(\"class8_ab\")\n",
    "Id2 = dnn_net.getLayerId(\"conv8_313_rh\")\n",
    "kernel = kernel.transpose().reshape(2,313,1,1)\n",
    "\n",
    "dnn_net.getLayer(Id).blobs = [kernel.astype(\"float32\")]\n",
    "dnn_net.getLayer(Id2).blobs = [np.full([1,313],2.606,dtype='float32')]\n",
    "\n",
    "image = cv2.imread('download.jpg')\n",
    "image = image.astype(\"float32\")/255.0\n",
    "image = cv2.cvtColor(image,cv2.COLOR_BGR2LAB)\n",
    "\n",
    "resized = cv2.resize(image,(224,224))\n",
    "split = cv2.split(resized)[0]\n",
    "split -= 50\n",
    "\n",
    "dnn_net.setInput(cv2.dnn.blobFromImage(split))\n",
    "forw = dnn_net.forward()[0, :, :, :].transpose((1,2,0))\n",
    "\n",
    "forw = cv2.resize(forw, (image.shape[1],image.shape[0]))\n",
    "\n",
    "split = cv2.split(lab)[0]\n",
    "colorized = np.concatenate((L[:,:,np.newaxis], ab), axis=2)\n",
    "\n",
    "colorized = cv2.cvtColor(colorized, cv2.COLOR_LAB2RGB)\n",
    "colorized = np.clip(colorized, 0, 1)\n",
    "colorized = (255 * colorized).astype(\"uint8\")\n",
    "plt.imshow(colorized)\n",
    "plt.axis('off');\n"
   ]
  },
  {
   "cell_type": "code",
   "execution_count": 2,
   "id": "731b1017",
   "metadata": {},
   "outputs": [
    {
     "ename": "AttributeError",
     "evalue": "'NoneType' object has no attribute 'astype'",
     "output_type": "error",
     "traceback": [
      "\u001b[1;31m---------------------------------------------------------------------------\u001b[0m",
      "\u001b[1;31mAttributeError\u001b[0m                            Traceback (most recent call last)",
      "Cell \u001b[1;32mIn[2], line 20\u001b[0m\n\u001b[0;32m     17\u001b[0m dnn_net\u001b[38;5;241m.\u001b[39mgetLayer(Id2)\u001b[38;5;241m.\u001b[39mblobs \u001b[38;5;241m=\u001b[39m [np\u001b[38;5;241m.\u001b[39mfull([\u001b[38;5;241m1\u001b[39m, \u001b[38;5;241m313\u001b[39m, \u001b[38;5;241m1\u001b[39m, \u001b[38;5;241m1\u001b[39m], \u001b[38;5;241m2.606\u001b[39m, dtype\u001b[38;5;241m=\u001b[39m\u001b[38;5;124m'\u001b[39m\u001b[38;5;124mfloat32\u001b[39m\u001b[38;5;124m'\u001b[39m)]  \u001b[38;5;66;03m# Corrected dimensions\u001b[39;00m\n\u001b[0;32m     19\u001b[0m image \u001b[38;5;241m=\u001b[39m cv2\u001b[38;5;241m.\u001b[39mimread(\u001b[38;5;124m'\u001b[39m\u001b[38;5;124mdownload.jpg\u001b[39m\u001b[38;5;124m'\u001b[39m)\n\u001b[1;32m---> 20\u001b[0m image \u001b[38;5;241m=\u001b[39m image\u001b[38;5;241m.\u001b[39mastype(\u001b[38;5;124m\"\u001b[39m\u001b[38;5;124mfloat32\u001b[39m\u001b[38;5;124m\"\u001b[39m) \u001b[38;5;241m/\u001b[39m \u001b[38;5;241m255.0\u001b[39m\n\u001b[0;32m     21\u001b[0m image \u001b[38;5;241m=\u001b[39m cv2\u001b[38;5;241m.\u001b[39mcvtColor(image, cv2\u001b[38;5;241m.\u001b[39mCOLOR_BGR2LAB)\n\u001b[0;32m     23\u001b[0m resized \u001b[38;5;241m=\u001b[39m cv2\u001b[38;5;241m.\u001b[39mresize(image, (\u001b[38;5;241m224\u001b[39m, \u001b[38;5;241m224\u001b[39m))\n",
      "\u001b[1;31mAttributeError\u001b[0m: 'NoneType' object has no attribute 'astype'"
     ]
    }
   ],
   "source": [
    "import numpy as np \n",
    "import cv2\n",
    "import matplotlib.pyplot as plt\n",
    "\n",
    "prot_path = './model/colorization_deploy_v2.prototxt'\n",
    "caffe_model = './model/colorization_release_v2.caffemodel'\n",
    "point_path = './model/pts_in_hull.npy'\n",
    "\n",
    "dnn_net = cv2.dnn.readNetFromCaffe(prot_path, caffe_model)\n",
    "kernel = np.load(point_path)\n",
    "\n",
    "Id = dnn_net.getLayerId(\"class8_ab\")\n",
    "Id2 = dnn_net.getLayerId(\"conv8_313_rh\")\n",
    "kernel = kernel.transpose().reshape(2, 313, 1, 1)\n",
    "\n",
    "dnn_net.getLayer(Id).blobs = [kernel.astype(\"float32\")]\n",
    "dnn_net.getLayer(Id2).blobs = [np.full([1, 313, 1, 1], 2.606, dtype='float32')]  # Corrected dimensions\n",
    "\n",
    "image = cv2.imread('download.jpg')\n",
    "image = image.astype(\"float32\") / 255.0\n",
    "image = cv2.cvtColor(image, cv2.COLOR_BGR2LAB)\n",
    "\n",
    "resized = cv2.resize(image, (224, 224))\n",
    "split = cv2.split(resized)[0]\n",
    "split -= 50\n",
    "\n",
    "dnn_net.setInput(cv2.dnn.blobFromImage(split))\n",
    "forw = dnn_net.forward()[0, :, :, :].transpose((1, 2, 0))\n",
    "\n",
    "forw = cv2.resize(forw, (image.shape[1], image.shape[0]))\n",
    "\n",
    "lab = cv2.split(image)\n",
    "L = lab[0]\n",
    "ab = forw\n",
    "\n",
    "colorized = np.concatenate((L[:, :, np.newaxis], ab), axis=2)\n",
    "colorized = cv2.cvtColor(colorized, cv2.COLOR_LAB2RGB)\n",
    "colorized = np.clip(colorized, 0, 1)\n",
    "colorized = (255 * colorized).astype(\"uint8\")\n",
    "\n",
    "plt.imshow(colorized)\n",
    "plt.axis('off')\n",
    "plt.show()\n"
   ]
  },
  {
   "cell_type": "code",
   "execution_count": 3,
   "id": "f32caf26",
   "metadata": {},
   "outputs": [
    {
     "name": "stdout",
     "output_type": "stream",
     "text": [
      "Error: Unable to load the image.\n"
     ]
    }
   ],
   "source": [
    "import numpy as np \n",
    "import cv2\n",
    "import matplotlib.pyplot as plt\n",
    "\n",
    "prot_path = './model/colorization_deploy_v2.prototxt'\n",
    "caffe_model = './model/colorization_release_v2.caffemodel'\n",
    "point_path = './model/pts_in_hull.npy'\n",
    "\n",
    "dnn_net = cv2.dnn.readNetFromCaffe(prot_path, caffe_model)\n",
    "kernel = np.load(point_path)\n",
    "\n",
    "Id = dnn_net.getLayerId(\"class8_ab\")\n",
    "Id2 = dnn_net.getLayerId(\"conv8_313_rh\")\n",
    "kernel = kernel.transpose().reshape(2, 313, 1, 1)\n",
    "\n",
    "dnn_net.getLayer(Id).blobs = [kernel.astype(\"float32\")]\n",
    "dnn_net.getLayer(Id2).blobs = [np.full([1, 313, 1, 1], 2.606, dtype='float32')]\n",
    "\n",
    "image = cv2.imread('download.jpg')\n",
    "\n",
    "if image is None:\n",
    "    print(\"Error: Unable to load the image.\")\n",
    "else:\n",
    "    image = image.astype(\"float32\") / 255.0\n",
    "    image = cv2.cvtColor(image, cv2.COLOR_BGR2LAB)\n",
    "\n",
    "    resized = cv2.resize(image, (224, 224))\n",
    "    split = cv2.split(resized)[0]\n",
    "    split -= 50\n",
    "\n",
    "    dnn_net.setInput(cv2.dnn.blobFromImage(split))\n",
    "    forw = dnn_net.forward()[0, :, :, :].transpose((1, 2, 0))\n",
    "\n",
    "    forw = cv2.resize(forw, (image.shape[1], image.shape[0]))\n",
    "\n",
    "    lab = cv2.split(image)\n",
    "    L = lab[0]\n",
    "    ab = forw\n",
    "\n",
    "    colorized = np.concatenate((L[:, :, np.newaxis], ab), axis=2)\n",
    "    colorized = cv2.cvtColor(colorized, cv2.COLOR_LAB2RGB)\n",
    "    colorized = np.clip(colorized, 0, 1)\n",
    "    colorized = (255 * colorized).astype(\"uint8\")\n",
    "\n",
    "    plt.imshow(colorized)\n",
    "    plt.axis('off')\n",
    "    plt.show()\n"
   ]
  },
  {
   "cell_type": "code",
   "execution_count": null,
   "id": "e9a16ead",
   "metadata": {},
   "outputs": [],
   "source": []
  }
 ],
 "metadata": {
  "kernelspec": {
   "display_name": "Python 3 (ipykernel)",
   "language": "python",
   "name": "python3"
  },
  "language_info": {
   "codemirror_mode": {
    "name": "ipython",
    "version": 3
   },
   "file_extension": ".py",
   "mimetype": "text/x-python",
   "name": "python",
   "nbconvert_exporter": "python",
   "pygments_lexer": "ipython3",
   "version": "3.11.5"
  }
 },
 "nbformat": 4,
 "nbformat_minor": 5
}
