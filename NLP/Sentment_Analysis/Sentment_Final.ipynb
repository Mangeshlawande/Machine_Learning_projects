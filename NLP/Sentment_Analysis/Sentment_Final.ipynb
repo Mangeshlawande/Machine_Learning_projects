{
 "cells": [
  {
   "cell_type": "code",
   "execution_count": 3,
   "id": "2ef508d7",
   "metadata": {},
   "outputs": [
    {
     "name": "stdout",
     "output_type": "stream",
     "text": [
      "[1 1 1 1 0 0 1 0 1 0 0 0 1 1 0 1 0 0 1 0 0 0 0 1 1 1 0 0 0 1 1 0 0 0 0 1 1\n",
      " 1 0 1 0 1 0 1 0 1 1 0 1 0]\n"
     ]
    },
    {
     "name": "stderr",
     "output_type": "stream",
     "text": [
      "[nltk_data] Downloading package stopwords to\n",
      "[nltk_data]     C:\\Users\\mange\\AppData\\Roaming\\nltk_data...\n",
      "[nltk_data]   Package stopwords is already up-to-date!\n",
      "[nltk_data] Downloading package wordnet to\n",
      "[nltk_data]     C:\\Users\\mange\\AppData\\Roaming\\nltk_data...\n",
      "[nltk_data]   Package wordnet is already up-to-date!\n"
     ]
    }
   ],
   "source": [
    "import pandas as pd \n",
    "dataset = pd.read_csv('finalreview.csv')\n",
    "import numpy as np \n",
    "import re\n",
    "import nltk\n",
    "nltk.download('stopwords')\n",
    "from nltk.corpus import stopwords\n",
    "nltk.download('wordnet')\n",
    "from nltk.stem import PorterStemmer\n",
    "corpus = []\n",
    "\n",
    "for i in range (0, 50):\n",
    "    review = re.sub('[^a-zA-Z0-9]',' ', dataset['review'][i])\n",
    "    review = review.lower()\n",
    "    review = review.split()\n",
    "    ps= PorterStemmer()\n",
    "    all_stopwords = stopwords.words('english')\n",
    "    all_stopwords.remove('not')\n",
    "    review = [ps.stem(word) for word in review if not word in set(all_stopwords)]\n",
    "    review = ' '.join(review)\n",
    "    corpus.append(review)\n",
    "    \n",
    "from sklearn.feature_extraction.text import CountVectorizer\n",
    "cv = CountVectorizer()\n",
    "X = cv.fit_transform(corpus).toarray()\n",
    "y = dataset['label']\n",
    "    \n",
    "from sklearn.linear_model import LogisticRegression\n",
    "model = LogisticRegression()\n",
    "model.fit(X,y)\n",
    "    \n",
    "y_pred = model.predict(X)\n",
    "print(y_pred)\n",
    "    "
   ]
  },
  {
   "cell_type": "code",
   "execution_count": 6,
   "id": "9d3f5aba",
   "metadata": {},
   "outputs": [],
   "source": [
    "def predict(document):\n",
    "    corpus = []\n",
    "    for i in range(1):\n",
    "     review = re.sub('[^a-zA-Z]',' ',document[i])\n",
    "     review = review.lower()\n",
    "     review = review.split()\n",
    "     ps = PorterStemmer()\n",
    "     all_stopwords =stopwords.words(\"english\")\n",
    "     all_stopwords.remove('not')\n",
    "     review = [ps.stem(word) for word in review if not word in set(all_stopwords)]\n",
    "     review = ' '.join(review)\n",
    "     corpus.append(review)\n",
    "    \n",
    "    print(corpus)\n",
    "    \n",
    "    X = cv.transform(corpus)\n",
    "    \n",
    "    y_pred = model.predict(X)\n",
    "    if(y_pred==1):\n",
    "        print(\"Positive Review\")\n",
    "    else:\n",
    "        print(\"Negative Review\")\n"
   ]
  },
  {
   "cell_type": "code",
   "execution_count": 7,
   "id": "104a2a9b",
   "metadata": {},
   "outputs": [
    {
     "name": "stdout",
     "output_type": "stream",
     "text": [
      "['great movi love movi special action part movi']\n",
      "Positive Review\n"
     ]
    }
   ],
   "source": [
    "document = ['Great movie and I just loved the movie , specially the action part of movie ']R\n",
    "predict(document)"
   ]
  },
  {
   "cell_type": "code",
   "execution_count": 8,
   "id": "c7cb2e7c",
   "metadata": {},
   "outputs": [
    {
     "name": "stdout",
     "output_type": "stream",
     "text": [
      "['worst movi ever activ bad screenplay']\n",
      "Negative Review\n"
     ]
    }
   ],
   "source": [
    "document = ['worst movie ever, no active and bad screenplay']\n",
    "predict(document)\n",
    "\n"
   ]
  },
  {
   "cell_type": "code",
   "execution_count": 9,
   "id": "40e7568e",
   "metadata": {},
   "outputs": [
    {
     "name": "stdout",
     "output_type": "stream",
     "text": [
      "['amaz screenplay butact averag best part interv']\n",
      "Positive Review\n"
     ]
    }
   ],
   "source": [
    "document = ['amazing screenplay but acting was average best part was after interval']\n",
    "predict(document)"
   ]
  },
  {
   "cell_type": "code",
   "execution_count": 10,
   "id": "4d8acda1",
   "metadata": {},
   "outputs": [],
   "source": [
    "import pickle\n",
    "pickle.dump(model, open('nlpmodel1.pkl','wb'))"
   ]
  },
  {
   "cell_type": "code",
   "execution_count": 12,
   "id": "641f8f28",
   "metadata": {},
   "outputs": [],
   "source": [
    "pickle.dump(cv, open('vector.pkl','wb'))"
   ]
  },
  {
   "cell_type": "code",
   "execution_count": 13,
   "id": "55e9edc7",
   "metadata": {},
   "outputs": [],
   "source": [
    "model1 = pickle.load(open('nlpmodel1.pkl','rb'))\n",
    "model2 = pickle.load(open('vector.pkl','rb'))"
   ]
  },
  {
   "cell_type": "code",
   "execution_count": 15,
   "id": "24754065",
   "metadata": {},
   "outputs": [],
   "source": [
    "def final(doc):\n",
    "    X =model2.transform(doc)\n",
    "    y_pred = model.predict(X)\n",
    "    if(y_pred==1):\n",
    "        print('Positive Review')\n",
    "    else:\n",
    "        print(\"Negative Review\")"
   ]
  },
  {
   "cell_type": "code",
   "execution_count": 16,
   "id": "995e8c4a",
   "metadata": {},
   "outputs": [
    {
     "name": "stdout",
     "output_type": "stream",
     "text": [
      "['great movi love movi special action part movi']\n",
      "Positive Review\n"
     ]
    }
   ],
   "source": [
    "document = ['Great movie and I just loved the movie , specially the action part of movie ']\n",
    "predict(document)"
   ]
  },
  {
   "cell_type": "code",
   "execution_count": null,
   "id": "d3810e82",
   "metadata": {},
   "outputs": [],
   "source": []
  }
 ],
 "metadata": {
  "kernelspec": {
   "display_name": "Python 3 (ipykernel)",
   "language": "python",
   "name": "python3"
  },
  "language_info": {
   "codemirror_mode": {
    "name": "ipython",
    "version": 3
   },
   "file_extension": ".py",
   "mimetype": "text/x-python",
   "name": "python",
   "nbconvert_exporter": "python",
   "pygments_lexer": "ipython3",
   "version": "3.11.5"
  }
 },
 "nbformat": 4,
 "nbformat_minor": 5
}
