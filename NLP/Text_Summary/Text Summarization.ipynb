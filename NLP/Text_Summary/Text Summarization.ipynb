{
 "cells": [
  {
   "cell_type": "code",
   "execution_count": 1,
   "id": "ae1ea2fc",
   "metadata": {},
   "outputs": [],
   "source": [
    "import nltk \n",
    "import numpy as np\n",
    "import re\n",
    "from nltk.corpus import stopwords"
   ]
  },
  {
   "cell_type": "code",
   "execution_count": 2,
   "id": "7c6f9b7e",
   "metadata": {},
   "outputs": [],
   "source": [
    "text = '''Hello and welcome friends to NPL workshop .\n",
    "Natural language processing (NLP) refers to the branch of computer science—and more specifically, the branch of artificial intelligence or AI—concerned with giving computers \n",
    "the ability to understand text and spoken words in much the same way human beings can.\n",
    "NLP combines computational linguistics—rule-based modeling of human language—with statistical, machine learning, and deep learning models. \n",
    "Together, these technologies enable computers to process human language in the form of text or voice data and to ‘understand’ its full meaning, complete with the speaker or writer’s intent and sentiment.'''"
   ]
  },
  {
   "cell_type": "code",
   "execution_count": 3,
   "id": "c0e8253d",
   "metadata": {},
   "outputs": [
    {
     "data": {
      "text/plain": [
       "'hello and welcome friends to NPL workshop   Natural language processing  NLP  refers to the branch of computer science and more specifically  the branch of artificial intelligence or AI concerned with giving computers  the ability to understand text and spoken words in much the same way human beings can  NLP combines computational linguistics rule based modeling of human language with statistical  machine learning  and deep learning models   Together  these technologies enable computers to process human language in the form of text or voice data and to  understand  its full meaning  complete with the speaker or writer s intent and sentiment '"
      ]
     },
     "execution_count": 3,
     "metadata": {},
     "output_type": "execute_result"
    }
   ],
   "source": [
    "pure_text = re.sub('[^a-zA-Z]',' ',text)\n",
    "pure_text"
   ]
  },
  {
   "cell_type": "code",
   "execution_count": 4,
   "id": "3cead0b3",
   "metadata": {},
   "outputs": [
    {
     "data": {
      "text/plain": [
       "['hello and welcome friends to NPL workshop .',\n",
       " 'Natural language processing (NLP) refers to the branch of computer science—and more specifically, the branch of artificial intelligence or AI—concerned with giving computers \\nthe ability to understand text and spoken words in much the same way human beings can.',\n",
       " 'NLP combines computational linguistics—rule-based modeling of human language—with statistical, machine learning, and deep learning models.',\n",
       " 'Together, these technologies enable computers to process human language in the form of text or voice data and to ‘understand’ its full meaning, complete with the speaker or writer’s intent and sentiment.']"
      ]
     },
     "execution_count": 4,
     "metadata": {},
     "output_type": "execute_result"
    }
   ],
   "source": [
    "sentences = nltk.sent_tokenize(text)\n",
    "sentences"
   ]
  },
  {
   "cell_type": "code",
   "execution_count": 5,
   "id": "683af799",
   "metadata": {},
   "outputs": [],
   "source": [
    "stopwords = nltk.corpus.stopwords.words('english')\n",
    "word_freq = {}\n",
    "for word in nltk.word_tokenize(pure_text):\n",
    "    if word not in stopwords:\n",
    "        if word not in word_freq.keys():\n",
    "            word_freq[word] = 1\n",
    "        else:\n",
    "            word_freq[word] += 1"
   ]
  },
  {
   "cell_type": "code",
   "execution_count": 6,
   "id": "213c6a50",
   "metadata": {},
   "outputs": [
    {
     "data": {
      "text/plain": [
       "{'hello': 1,\n",
       " 'welcome': 1,\n",
       " 'friends': 1,\n",
       " 'NPL': 1,\n",
       " 'workshop': 1,\n",
       " 'Natural': 1,\n",
       " 'language': 3,\n",
       " 'processing': 1,\n",
       " 'NLP': 2,\n",
       " 'refers': 1,\n",
       " 'branch': 2,\n",
       " 'computer': 1,\n",
       " 'science': 1,\n",
       " 'specifically': 1,\n",
       " 'artificial': 1,\n",
       " 'intelligence': 1,\n",
       " 'AI': 1,\n",
       " 'concerned': 1,\n",
       " 'giving': 1,\n",
       " 'computers': 2,\n",
       " 'ability': 1,\n",
       " 'understand': 2,\n",
       " 'text': 2,\n",
       " 'spoken': 1,\n",
       " 'words': 1,\n",
       " 'much': 1,\n",
       " 'way': 1,\n",
       " 'human': 3,\n",
       " 'beings': 1,\n",
       " 'combines': 1,\n",
       " 'computational': 1,\n",
       " 'linguistics': 1,\n",
       " 'rule': 1,\n",
       " 'based': 1,\n",
       " 'modeling': 1,\n",
       " 'statistical': 1,\n",
       " 'machine': 1,\n",
       " 'learning': 2,\n",
       " 'deep': 1,\n",
       " 'models': 1,\n",
       " 'Together': 1,\n",
       " 'technologies': 1,\n",
       " 'enable': 1,\n",
       " 'process': 1,\n",
       " 'form': 1,\n",
       " 'voice': 1,\n",
       " 'data': 1,\n",
       " 'full': 1,\n",
       " 'meaning': 1,\n",
       " 'complete': 1,\n",
       " 'speaker': 1,\n",
       " 'writer': 1,\n",
       " 'intent': 1,\n",
       " 'sentiment': 1}"
      ]
     },
     "execution_count": 6,
     "metadata": {},
     "output_type": "execute_result"
    }
   ],
   "source": [
    "word_freq"
   ]
  },
  {
   "cell_type": "code",
   "execution_count": 7,
   "id": "ac820bf6",
   "metadata": {},
   "outputs": [
    {
     "data": {
      "text/plain": [
       "dict_keys(['hello', 'welcome', 'friends', 'NPL', 'workshop', 'Natural', 'language', 'processing', 'NLP', 'refers', 'branch', 'computer', 'science', 'specifically', 'artificial', 'intelligence', 'AI', 'concerned', 'giving', 'computers', 'ability', 'understand', 'text', 'spoken', 'words', 'much', 'way', 'human', 'beings', 'combines', 'computational', 'linguistics', 'rule', 'based', 'modeling', 'statistical', 'machine', 'learning', 'deep', 'models', 'Together', 'technologies', 'enable', 'process', 'form', 'voice', 'data', 'full', 'meaning', 'complete', 'speaker', 'writer', 'intent', 'sentiment'])"
      ]
     },
     "execution_count": 7,
     "metadata": {},
     "output_type": "execute_result"
    }
   ],
   "source": [
    "word_freq.keys()"
   ]
  },
  {
   "cell_type": "code",
   "execution_count": 8,
   "id": "117bfcfb",
   "metadata": {},
   "outputs": [
    {
     "data": {
      "text/plain": [
       "dict_values([1, 1, 1, 1, 1, 1, 3, 1, 2, 1, 2, 1, 1, 1, 1, 1, 1, 1, 1, 2, 1, 2, 2, 1, 1, 1, 1, 3, 1, 1, 1, 1, 1, 1, 1, 1, 1, 2, 1, 1, 1, 1, 1, 1, 1, 1, 1, 1, 1, 1, 1, 1, 1, 1])"
      ]
     },
     "execution_count": 8,
     "metadata": {},
     "output_type": "execute_result"
    }
   ],
   "source": [
    "word_freq.values()"
   ]
  },
  {
   "cell_type": "code",
   "execution_count": 9,
   "id": "7d666b5c",
   "metadata": {},
   "outputs": [
    {
     "data": {
      "text/plain": [
       "3"
      ]
     },
     "execution_count": 9,
     "metadata": {},
     "output_type": "execute_result"
    }
   ],
   "source": [
    "max_freq = max(word_freq.values())\n",
    "max_freq"
   ]
  },
  {
   "cell_type": "code",
   "execution_count": 10,
   "id": "985af1c2",
   "metadata": {},
   "outputs": [
    {
     "data": {
      "text/plain": [
       "{'hello': 0.3333333333333333,\n",
       " 'welcome': 0.3333333333333333,\n",
       " 'friends': 0.3333333333333333,\n",
       " 'NPL': 0.3333333333333333,\n",
       " 'workshop': 0.3333333333333333,\n",
       " 'Natural': 0.3333333333333333,\n",
       " 'language': 1.0,\n",
       " 'processing': 0.3333333333333333,\n",
       " 'NLP': 0.6666666666666666,\n",
       " 'refers': 0.3333333333333333,\n",
       " 'branch': 0.6666666666666666,\n",
       " 'computer': 0.3333333333333333,\n",
       " 'science': 0.3333333333333333,\n",
       " 'specifically': 0.3333333333333333,\n",
       " 'artificial': 0.3333333333333333,\n",
       " 'intelligence': 0.3333333333333333,\n",
       " 'AI': 0.3333333333333333,\n",
       " 'concerned': 0.3333333333333333,\n",
       " 'giving': 0.3333333333333333,\n",
       " 'computers': 0.6666666666666666,\n",
       " 'ability': 0.3333333333333333,\n",
       " 'understand': 0.6666666666666666,\n",
       " 'text': 0.6666666666666666,\n",
       " 'spoken': 0.3333333333333333,\n",
       " 'words': 0.3333333333333333,\n",
       " 'much': 0.3333333333333333,\n",
       " 'way': 0.3333333333333333,\n",
       " 'human': 1.0,\n",
       " 'beings': 0.3333333333333333,\n",
       " 'combines': 0.3333333333333333,\n",
       " 'computational': 0.3333333333333333,\n",
       " 'linguistics': 0.3333333333333333,\n",
       " 'rule': 0.3333333333333333,\n",
       " 'based': 0.3333333333333333,\n",
       " 'modeling': 0.3333333333333333,\n",
       " 'statistical': 0.3333333333333333,\n",
       " 'machine': 0.3333333333333333,\n",
       " 'learning': 0.6666666666666666,\n",
       " 'deep': 0.3333333333333333,\n",
       " 'models': 0.3333333333333333,\n",
       " 'Together': 0.3333333333333333,\n",
       " 'technologies': 0.3333333333333333,\n",
       " 'enable': 0.3333333333333333,\n",
       " 'process': 0.3333333333333333,\n",
       " 'form': 0.3333333333333333,\n",
       " 'voice': 0.3333333333333333,\n",
       " 'data': 0.3333333333333333,\n",
       " 'full': 0.3333333333333333,\n",
       " 'meaning': 0.3333333333333333,\n",
       " 'complete': 0.3333333333333333,\n",
       " 'speaker': 0.3333333333333333,\n",
       " 'writer': 0.3333333333333333,\n",
       " 'intent': 0.3333333333333333,\n",
       " 'sentiment': 0.3333333333333333}"
      ]
     },
     "execution_count": 10,
     "metadata": {},
     "output_type": "execute_result"
    }
   ],
   "source": [
    "for word in word_freq.keys():\n",
    "    word_freq[word] = (word_freq[word]/max_freq)\n",
    "    \n",
    "word_freq"
   ]
  },
  {
   "cell_type": "code",
   "execution_count": 15,
   "id": "b774eec0",
   "metadata": {},
   "outputs": [
    {
     "name": "stdout",
     "output_type": "stream",
     "text": [
      "sentence--> hello and welcome friends to NPL workshop .\n",
      "word--> hello\n",
      "word--> and\n",
      "word--> welcome\n",
      "word--> friends\n",
      "word--> to\n",
      "word--> NPL\n",
      "word--> workshop\n",
      "word--> .\n",
      "sentence--> Natural language processing (NLP) refers to the branch of computer science—and more specifically, the branch of artificial intelligence or AI—concerned with giving computers \n",
      "the ability to understand text and spoken words in much the same way human beings can.\n",
      "word--> Natural\n",
      "word--> language\n",
      "word--> processing\n",
      "word--> (\n",
      "word--> NLP\n",
      "word--> )\n",
      "word--> refers\n",
      "word--> to\n",
      "word--> the\n",
      "word--> branch\n",
      "word--> of\n",
      "word--> computer\n",
      "word--> science—and\n",
      "word--> more\n",
      "word--> specifically\n",
      "word--> ,\n",
      "word--> the\n",
      "word--> branch\n",
      "word--> of\n",
      "word--> artificial\n",
      "word--> intelligence\n",
      "word--> or\n",
      "word--> AI—concerned\n",
      "word--> with\n",
      "word--> giving\n",
      "word--> computers\n",
      "word--> the\n",
      "word--> ability\n",
      "word--> to\n",
      "word--> understand\n",
      "word--> text\n",
      "word--> and\n",
      "word--> spoken\n",
      "word--> words\n",
      "word--> in\n",
      "word--> much\n",
      "word--> the\n",
      "word--> same\n",
      "word--> way\n",
      "word--> human\n",
      "word--> beings\n",
      "word--> can\n",
      "word--> .\n",
      "sentence--> NLP combines computational linguistics—rule-based modeling of human language—with statistical, machine learning, and deep learning models.\n",
      "word--> NLP\n",
      "word--> combines\n",
      "word--> computational\n",
      "word--> linguistics—rule-based\n",
      "word--> modeling\n",
      "word--> of\n",
      "word--> human\n",
      "word--> language—with\n",
      "word--> statistical\n",
      "word--> ,\n",
      "word--> machine\n",
      "word--> learning\n",
      "word--> ,\n",
      "word--> and\n",
      "word--> deep\n",
      "word--> learning\n",
      "word--> models\n",
      "word--> .\n",
      "sentence--> Together, these technologies enable computers to process human language in the form of text or voice data and to ‘understand’ its full meaning, complete with the speaker or writer’s intent and sentiment.\n",
      "word--> Together\n",
      "word--> ,\n",
      "word--> these\n",
      "word--> technologies\n",
      "word--> enable\n",
      "word--> computers\n",
      "word--> to\n",
      "word--> process\n",
      "word--> human\n",
      "word--> language\n",
      "word--> in\n",
      "word--> the\n",
      "word--> form\n",
      "word--> of\n",
      "word--> text\n",
      "word--> or\n",
      "word--> voice\n",
      "word--> data\n",
      "word--> and\n",
      "word--> to\n",
      "word--> ‘\n",
      "word--> understand\n",
      "word--> ’\n",
      "word--> its\n",
      "word--> full\n",
      "word--> meaning\n",
      "word--> ,\n",
      "word--> complete\n",
      "word--> with\n",
      "word--> the\n",
      "word--> speaker\n",
      "word--> or\n",
      "word--> writer\n",
      "word--> ’\n",
      "word--> s\n",
      "word--> intent\n",
      "word--> and\n",
      "word--> sentiment\n",
      "word--> .\n"
     ]
    }
   ],
   "source": [
    "sentence_values = {}\n",
    "for s in sentences:\n",
    "    print('sentence-->',s)\n",
    "    for word in nltk.word_tokenize(s):\n",
    "        print('word-->',word)\n",
    "        if word in word_freq.keys():\n",
    "            if s not in sentence_values.keys():\n",
    "                sentence_values[s] = word_freq[word]\n",
    "            else:\n",
    "                sentence_values[s] += word_freq[word]\n"
   ]
  },
  {
   "cell_type": "code",
   "execution_count": 16,
   "id": "6ad22eff",
   "metadata": {},
   "outputs": [
    {
     "data": {
      "text/plain": [
       "{'hello and welcome friends to NPL workshop .': 1.6666666666666665,\n",
       " 'Natural language processing (NLP) refers to the branch of computer science—and more specifically, the branch of artificial intelligence or AI—concerned with giving computers \\nthe ability to understand text and spoken words in much the same way human beings can.': 10.66666666666667,\n",
       " 'NLP combines computational linguistics—rule-based modeling of human language—with statistical, machine learning, and deep learning models.': 5.333333333333333,\n",
       " 'Together, these technologies enable computers to process human language in the form of text or voice data and to ‘understand’ its full meaning, complete with the speaker or writer’s intent and sentiment.': 8.666666666666666}"
      ]
     },
     "execution_count": 16,
     "metadata": {},
     "output_type": "execute_result"
    }
   ],
   "source": [
    "sentence_values"
   ]
  },
  {
   "cell_type": "code",
   "execution_count": 19,
   "id": "254049ee",
   "metadata": {},
   "outputs": [
    {
     "name": "stdout",
     "output_type": "stream",
     "text": [
      "Natural language processing (NLP) refers to the branch of computer science—and more specifically, the branch of artificial intelligence or AI—concerned with giving computers \n",
      "the ability to understand text and spoken words in much the same way human beings can. Together, these technologies enable computers to process human language in the form of text or voice data and to ‘understand’ its full meaning, complete with the speaker or writer’s intent and sentiment. NLP combines computational linguistics—rule-based modeling of human language—with statistical, machine learning, and deep learning models.\n"
     ]
    }
   ],
   "source": [
    "import heapq\n",
    "summary = heapq.nlargest(3, sentence_values, key= sentence_values.get)\n",
    "summary = ' '.join(summary)\n",
    "\n",
    "print(summary)"
   ]
  },
  {
   "cell_type": "code",
   "execution_count": null,
   "id": "9ba4ccb5",
   "metadata": {},
   "outputs": [],
   "source": []
  }
 ],
 "metadata": {
  "kernelspec": {
   "display_name": "Python 3 (ipykernel)",
   "language": "python",
   "name": "python3"
  },
  "language_info": {
   "codemirror_mode": {
    "name": "ipython",
    "version": 3
   },
   "file_extension": ".py",
   "mimetype": "text/x-python",
   "name": "python",
   "nbconvert_exporter": "python",
   "pygments_lexer": "ipython3",
   "version": "3.11.5"
  }
 },
 "nbformat": 4,
 "nbformat_minor": 5
}
